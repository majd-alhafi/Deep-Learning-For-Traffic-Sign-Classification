{
  "cells": [
    {
      "cell_type": "code",
      "source": [
        "from google.colab import drive\n",
        "drive.mount('/content/drive')"
      ],
      "metadata": {
        "colab": {
          "base_uri": "https://localhost:8080/"
        },
        "id": "jxWiMIFEb_qq",
        "outputId": "8fc6df0c-b77d-4409-aa46-ced6caa39e4a"
      },
      "execution_count": 1,
      "outputs": [
        {
          "output_type": "stream",
          "name": "stdout",
          "text": [
            "Mounted at /content/drive\n"
          ]
        }
      ]
    },
    {
      "cell_type": "code",
      "execution_count": 2,
      "metadata": {
        "id": "DQQeJSsKbdXN"
      },
      "outputs": [],
      "source": [
        "import matplotlib.pyplot as plt\n",
        "import numpy as np\n",
        "import tensorflow as tf\n",
        "import pandas as pd\n",
        "import seaborn as sns\n",
        "import pickle\n",
        "import random\n",
        "from tensorflow.keras.utils import to_categorical\n",
        "from tensorflow.keras import regularizers"
      ]
    },
    {
      "cell_type": "code",
      "execution_count": 3,
      "metadata": {
        "id": "gqC1TLeHbdXO"
      },
      "outputs": [],
      "source": [
        "path = '/content/drive/MyDrive/Traffic Sign Dataset/'\n",
        "with open(path + \"train.p\", mode='rb') as training_data:\n",
        "    train = pickle.load(training_data)\n",
        "with open(path + \"valid.p\", mode='rb') as validation_data:\n",
        "    valid = pickle.load(validation_data)\n",
        "with open(path + \"test.p\", mode='rb') as testing_data:\n",
        "    test = pickle.load(testing_data)"
      ]
    },
    {
      "cell_type": "code",
      "execution_count": 7,
      "metadata": {
        "colab": {
          "base_uri": "https://localhost:8080/"
        },
        "id": "-uEFeTF3rPl0",
        "outputId": "81c1013e-6065-45f3-ce08-c6b4aa8b01b3"
      },
      "outputs": [
        {
          "output_type": "execute_result",
          "data": {
            "text/plain": [
              "dict_keys(['coords', 'labels', 'features', 'sizes'])"
            ]
          },
          "metadata": {},
          "execution_count": 7
        }
      ],
      "source": [
        "train.keys()"
      ]
    },
    {
      "cell_type": "code",
      "execution_count": 4,
      "metadata": {
        "id": "LTLHnPTGrRkc"
      },
      "outputs": [],
      "source": [
        "X_train , y_train = train['features'] , train['labels']\n",
        "X_test , y_test = test['features'] , test['labels']\n",
        "X_validation , y_validation = valid['features'] , valid['labels']"
      ]
    },
    {
      "cell_type": "code",
      "source": [
        "X_train_gray = X_train[:,:,:,0] / 255\n",
        "X_test_gray = X_test[:,:,:,0] / 255\n",
        "X_validation_gray = X_validation[:,:,:,0] / 255"
      ],
      "metadata": {
        "id": "wquiFYCrq0m3"
      },
      "execution_count": 22,
      "outputs": []
    },
    {
      "cell_type": "code",
      "execution_count": 15,
      "metadata": {
        "colab": {
          "base_uri": "https://localhost:8080/",
          "height": 283
        },
        "id": "ronVvCdJsYc5",
        "outputId": "f9fc3924-02ad-4af7-c551-7366966979db"
      },
      "outputs": [
        {
          "output_type": "execute_result",
          "data": {
            "text/plain": [
              "<matplotlib.image.AxesImage at 0x7f70d81f4710>"
            ]
          },
          "metadata": {},
          "execution_count": 15
        },
        {
          "output_type": "display_data",
          "data": {
            "text/plain": [
              "<Figure size 432x288 with 1 Axes>"
            ],
            "image/png": "[encoded data removed]"
          },
          "metadata": {
            "needs_background": "light"
          }
        }
      ],
      "source": [
        "i = np.random.randint(1, len(X_train))\n",
        "plt.imshow(X_train[i])\n",
        "#y_train[i]"
      ]
    },
    {
      "cell_type": "code",
      "source": [
        "y_train_cat = to_categorical(y_train)\n",
        "y_test_cat = to_categorical(y_test)\n",
        "y_validation_cat = to_categorical(y_validation)"
      ],
      "metadata": {
        "id": "hGs0RUWpi0PV"
      },
      "execution_count": 5,
      "outputs": []
    },
    {
      "cell_type": "code",
      "source": [
        "y_test_cat.shape[1]"
      ],
      "metadata": {
        "colab": {
          "base_uri": "https://localhost:8080/"
        },
        "id": "16EvG7oJlcWH",
        "outputId": "f3ac7266-f430-4315-9e22-fbce5c3077b4"
      },
      "execution_count": 65,
      "outputs": [
        {
          "output_type": "execute_result",
          "data": {
            "text/plain": [
              "43"
            ]
          },
          "metadata": {},
          "execution_count": 65
        }
      ]
    },
    {
      "cell_type": "code",
      "source": [
        "X_train.shape"
      ],
      "metadata": {
        "colab": {
          "base_uri": "https://localhost:8080/"
        },
        "id": "7i4_vlTjlem2",
        "outputId": "b9cfc8ac-f4c9-41d7-af5b-f8911ba4d2e4"
      },
      "execution_count": 6,
      "outputs": [
        {
          "output_type": "execute_result",
          "data": {
            "text/plain": [
              "(34799, 32, 32, 3)"
            ]
          },
          "metadata": {},
          "execution_count": 6
        }
      ]
    },
    {
      "cell_type": "code",
      "execution_count": 39,
      "metadata": {
        "id": "kFsd6rYsr9uW"
      },
      "outputs": [],
      "source": [
        "input_ = tf.keras.layers.Input(shape=(X_train.shape[1],X_train.shape[2],X_train.shape[3]))\n",
        "x = input_\n",
        "for i in range(1,4):\n",
        "  x = tf.keras.layers.Conv2D(2**(2+i),kernel_size=(3,3),activation = 'relu',kernel_regularizer=regularizers.L1L2(l1=1e-5, l2=1e-4))(x)\n",
        "  x = tf.keras.layers.BatchNormalization()(x)\n",
        "  x = tf.keras.layers.Dropout(0.4)(x)\n",
        "  x = tf.keras.layers.MaxPooling2D(pool_size=(2, 2))(x)\n",
        "x = tf.keras.layers.Flatten()(x)\n",
        "output = tf.keras.layers.Dense(y_test_cat.shape[1],activation='softmax')(x)\n",
        "model=tf.keras.models.Model(inputs = input_ , outputs = output)\n",
        "model.compile(loss='categorical_crossentropy',optimizer=\"adam\",metrics=['accuracy'])"
      ]
    },
    {
      "cell_type": "code",
      "source": [
        "model.summary()"
      ],
      "metadata": {
        "id": "cXVMzBraloUf"
      },
      "execution_count": null,
      "outputs": []
    },
    {
      "cell_type": "code",
      "source": [
        "class myCallback(tf.keras.callbacks.Callback):\n",
        "  def on_epoch_end(self, epoch, logs={}):\n",
        "    if(logs.get('val_accuracy')>=0.94):\n",
        "      print(\"\\nReached 90.0% accuracy so cancelling training!\")\n",
        "      self.model.stop_training = True\n",
        "callbacks = myCallback()"
      ],
      "metadata": {
        "id": "qsmhsKjGu3ne"
      },
      "execution_count": 42,
      "outputs": []
    },
    {
      "cell_type": "code",
      "execution_count": 43,
      "metadata": {
        "colab": {
          "base_uri": "https://localhost:8080/"
        },
        "id": "XDTDxCwgsBI1",
        "outputId": "dcb509ac-e929-455f-aa33-5097219ee640"
      },
      "outputs": [
        {
          "output_type": "stream",
          "name": "stdout",
          "text": [
            "Epoch 1/500\n",
            "68/68 [==============================] - 1s 19ms/step - loss: 0.1308 - accuracy: 0.9598 - val_loss: 0.2939 - val_accuracy: 0.9313\n",
            "Epoch 2/500\n",
            "68/68 [==============================] - 1s 19ms/step - loss: 0.1400 - accuracy: 0.9574 - val_loss: 0.3019 - val_accuracy: 0.9327\n",
            "Epoch 3/500\n",
            "68/68 [==============================] - 1s 19ms/step - loss: 0.1290 - accuracy: 0.9610 - val_loss: 0.3012 - val_accuracy: 0.9338\n",
            "Epoch 4/500\n",
            "68/68 [==============================] - 1s 19ms/step - loss: 0.1342 - accuracy: 0.9596 - val_loss: 0.2728 - val_accuracy: 0.9311\n",
            "Epoch 5/500\n",
            "68/68 [==============================] - 1s 19ms/step - loss: 0.1310 - accuracy: 0.9599 - val_loss: 0.3028 - val_accuracy: 0.9243\n",
            "Epoch 6/500\n",
            "68/68 [==============================] - 1s 19ms/step - loss: 0.1397 - accuracy: 0.9583 - val_loss: 0.2912 - val_accuracy: 0.9297\n",
            "Epoch 7/500\n",
            "68/68 [==============================] - 1s 19ms/step - loss: 0.1374 - accuracy: 0.9589 - val_loss: 0.3142 - val_accuracy: 0.9227\n",
            "Epoch 8/500\n",
            "68/68 [==============================] - 1s 19ms/step - loss: 0.1300 - accuracy: 0.9607 - val_loss: 0.2952 - val_accuracy: 0.9265\n",
            "Epoch 9/500\n",
            "68/68 [==============================] - 1s 19ms/step - loss: 0.1316 - accuracy: 0.9606 - val_loss: 0.2766 - val_accuracy: 0.9324\n",
            "Epoch 10/500\n",
            "68/68 [==============================] - 1s 19ms/step - loss: 0.1367 - accuracy: 0.9594 - val_loss: 0.3089 - val_accuracy: 0.9272\n",
            "Epoch 11/500\n",
            "68/68 [==============================] - 1s 19ms/step - loss: 0.1367 - accuracy: 0.9576 - val_loss: 0.2810 - val_accuracy: 0.9336\n",
            "Epoch 12/500\n",
            "68/68 [==============================] - 1s 19ms/step - loss: 0.1295 - accuracy: 0.9609 - val_loss: 0.2793 - val_accuracy: 0.9336\n",
            "Epoch 13/500\n",
            "68/68 [==============================] - 1s 20ms/step - loss: 0.1273 - accuracy: 0.9611 - val_loss: 0.2836 - val_accuracy: 0.9297\n",
            "Epoch 14/500\n",
            "68/68 [==============================] - 1s 19ms/step - loss: 0.1289 - accuracy: 0.9608 - val_loss: 0.3197 - val_accuracy: 0.9184\n",
            "Epoch 15/500\n",
            "68/68 [==============================] - 1s 20ms/step - loss: 0.1301 - accuracy: 0.9602 - val_loss: 0.2676 - val_accuracy: 0.9333\n",
            "Epoch 16/500\n",
            "68/68 [==============================] - 1s 19ms/step - loss: 0.1292 - accuracy: 0.9610 - val_loss: 0.2853 - val_accuracy: 0.9383\n",
            "Epoch 17/500\n",
            "68/68 [==============================] - 1s 19ms/step - loss: 0.1363 - accuracy: 0.9589 - val_loss: 0.2705 - val_accuracy: 0.9342\n",
            "Epoch 18/500\n",
            "68/68 [==============================] - 1s 20ms/step - loss: 0.1281 - accuracy: 0.9607 - val_loss: 0.2574 - val_accuracy: 0.9395\n",
            "Epoch 19/500\n",
            "68/68 [==============================] - 1s 19ms/step - loss: 0.1281 - accuracy: 0.9617 - val_loss: 0.2705 - val_accuracy: 0.9351\n",
            "Epoch 20/500\n",
            "68/68 [==============================] - 1s 19ms/step - loss: 0.1285 - accuracy: 0.9609 - val_loss: 0.2956 - val_accuracy: 0.9311\n",
            "Epoch 21/500\n",
            "67/68 [============================>.] - ETA: 0s - loss: 0.1343 - accuracy: 0.9590\n",
            "Reached 90.0% accuracy so cancelling training!\n",
            "68/68 [==============================] - 1s 19ms/step - loss: 0.1350 - accuracy: 0.9588 - val_loss: 0.2805 - val_accuracy: 0.9406\n"
          ]
        }
      ],
      "source": [
        "history = model.fit(X_train,y_train_cat,512,500,validation_data=[X_validation,y_validation_cat],callbacks=[callbacks])"
      ]
    },
    {
      "cell_type": "code",
      "source": [
        "dict_ = {\n",
        "    0 : \"Speed limit (20km/h)\", \n",
        "    1 : \"Speed limit (30km/h)\",\n",
        "    2 : \"Speed limit (50km/h)\", \n",
        "    3 : \"Speed limit (60km/h)\",\n",
        "    4 : \"Speed limit (70km/h)\", \n",
        "    5 : \"Speed limit (80km/h)\",\n",
        "    6 : \"End of speed limit (80km/h)\",\n",
        "    7 : \"Speed limit (100km/h)\",\n",
        "    8 : \"Speed limit (120km/h)\",\n",
        "    9 : \"No passing\",\n",
        "    10: \"No passing for vehicles over 3.5 metric tons\",\n",
        "    11: \"Right-of-way at the next intersection\",\n",
        "    12: \"Priority road\",\n",
        "    13: \"Yield\",\n",
        "    14: \"Stop\",\n",
        "    15: \"No vehicles\",\n",
        "    16: \"Vehicles over 3.5 metric tons prohibited\",\n",
        "    17: \"No entry\",\n",
        "    18: \"General caution\",\n",
        "    19: \"Dangerous curve to the left\",\n",
        "    20: \"Dangerous curve to the right\",\n",
        "    21: \"Double curve\",\n",
        "    22: \"Bumpy road\",\n",
        "    23: \"Slippery road\",\n",
        "    24: \"Road narrows on the right\",\n",
        "    25: \"Road work\",\n",
        "    26: \"Traffic signals\",\n",
        "    27: \"Pedestrians\",\n",
        "    28: \"Children crossing\", \n",
        "    29: \"Bicycles crossing\",\n",
        "    30: \"Beware of ice/snow\",\n",
        "    31: \"Wild animals crossing\",\n",
        "    32: \"End of all speed and passing limits\",\n",
        "    33: \"Turn right ahead\",\n",
        "    34: \"Turn left ahead\",\n",
        "    35: \"Ahead only\",\n",
        "    36: \"Go straight or right\",\n",
        "    37: \"Go straight or left\",\n",
        "    38: \"Keep right\",\n",
        "    39: \"Keep left\",\n",
        "    40: \"Roundabout mandatory\",\n",
        "    41: \"End of no passing\",\n",
        "    42: \"End of no passing by vehicles over 3.5 metric tons\",\n",
        "\n",
        "}"
      ],
      "metadata": {
        "id": "x4NBNTTrnMw-"
      },
      "execution_count": 44,
      "outputs": []
    },
    {
      "cell_type": "code",
      "source": [
        "test_image = X_test[0]\n",
        "test_image = np.reshape(test_image,(1,test_image.shape[0],test_image.shape[1],test_image.shape[2]))\n",
        "y_pred = model.predict(test_image)"
      ],
      "metadata": {
        "id": "xAHcwqYsvVcH"
      },
      "execution_count": 48,
      "outputs": []
    },
    {
      "cell_type": "code",
      "source": [
        "plt.imshow(X_test[0])"
      ],
      "metadata": {
        "colab": {
          "base_uri": "https://localhost:8080/",
          "height": 283
        },
        "id": "pKlyg-ntwIrW",
        "outputId": "10e6305f-ae1b-4918-b960-77e9787f566e"
      },
      "execution_count": 50,
      "outputs": [
        {
          "output_type": "execute_result",
          "data": {
            "text/plain": [
              "<matplotlib.image.AxesImage at 0x7fc8c834fc50>"
            ]
          },
          "metadata": {},
          "execution_count": 50
        },
        {
          "output_type": "display_data",
          "data": {
            "text/plain": [
              "<Figure size 432x288 with 1 Axes>"
            ],
            "image/png": "[encoded data removed]"
          },
          "metadata": {
            "needs_background": "light"
          }
        }
      ]
    },
    {
      "cell_type": "code",
      "source": [
        "dict_[y_test[0]]"
      ],
      "metadata": {
        "colab": {
          "base_uri": "https://localhost:8080/",
          "height": 36
        },
        "id": "tjtuottowQfV",
        "outputId": "40683169-e557-461e-8e41-a935a1e5e8c5"
      },
      "execution_count": 52,
      "outputs": [
        {
          "output_type": "execute_result",
          "data": {
            "text/plain": [
              "'Vehicles over 3.5 metric tons prohibited'"
            ],
            "application/vnd.google.colaboratory.intrinsic+json": {
              "type": "string"
            }
          },
          "metadata": {},
          "execution_count": 52
        }
      ]
    },
    {
      "cell_type": "code",
      "execution_count": 49,
      "metadata": {
        "colab": {
          "base_uri": "https://localhost:8080/",
          "height": 36
        },
        "id": "9qrKTmtIbdXX",
        "outputId": "110e2be4-6ae3-4fda-9494-5ddabe8a95e9"
      },
      "outputs": [
        {
          "output_type": "execute_result",
          "data": {
            "text/plain": [
              "'Vehicles over 3.5 metric tons prohibited'"
            ],
            "application/vnd.google.colaboratory.intrinsic+json": {
              "type": "string"
            }
          },
          "metadata": {},
          "execution_count": 49
        }
      ],
      "source": [
        "idx = np.argmax(y_pred)\n",
        "dict_[idx]"
      ]
    },
    {
      "cell_type": "code",
      "source": [
        ""
      ],
      "metadata": {
        "id": "P7QLItWzv3G1"
      },
      "execution_count": null,
      "outputs": []
    }
  ],
  "metadata": {
    "accelerator": "GPU",
    "colab": {
      "collapsed_sections": [],
      "name": "Deep Learning For Traffic Sign Classification.ipynb",
      "provenance": []
    },
    "kernelspec": {
      "display_name": "Python 3",
      "language": "python",
      "name": "python3"
    },
    "language_info": {
      "codemirror_mode": {
        "name": "ipython",
        "version": 3
      },
      "file_extension": ".py",
      "mimetype": "text/x-python",
      "name": "python",
      "nbconvert_exporter": "python",
      "pygments_lexer": "ipython3",
      "version": "3.7.0"
    }
  },
  "nbformat": 4,
  "nbformat_minor": 0
}